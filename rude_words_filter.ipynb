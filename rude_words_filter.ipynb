{
 "cells": [
  {
   "cell_type": "code",
   "execution_count": 5,
   "id": "17821a0b-3acd-4fb9-bde1-9b0f601897e6",
   "metadata": {},
   "outputs": [],
   "source": [
    "#assume all files in downloads path\n",
    "def read_file(file):\n",
    "#read file content into the String\n",
    "    with open(f'Downloads/{file}', 'r') as file:\n",
    "        file_content = file.read()\n",
    "    lowercase = file_content.lower()\n",
    "    words = lowercase.split()\n",
    "    Strs = []\n",
    "    for x in words:\n",
    "        Strs.append(x)\n",
    "    return(Strs)\n",
    "    \n",
    "def compare(A,B):\n",
    "    fileread = read_file(A)\n",
    "    ruderead = read_file(B)\n",
    "#for words in rude words list:\n",
    "#is the word in the file contents string?\n",
    "#if so alert!\n",
    "    for x in fileread:\n",
    "        for y in ruderead:\n",
    "            if x in y:\n",
    "                print(\"rude word in you file, please change it\")\n",
    "                break\n",
    "            break\n",
    "compare(\"example.txt\",\"rude words list.txt\")"
   ]
  },
  {
   "cell_type": "code",
   "execution_count": null,
   "id": "6c813246-ff19-444c-9d3a-46d0eb410bd6",
   "metadata": {},
   "outputs": [],
   "source": []
  }
 ],
 "metadata": {
  "kernelspec": {
   "display_name": "Python 3 (ipykernel)",
   "language": "python",
   "name": "python3"
  },
  "language_info": {
   "codemirror_mode": {
    "name": "ipython",
    "version": 3
   },
   "file_extension": ".py",
   "mimetype": "text/x-python",
   "name": "python",
   "nbconvert_exporter": "python",
   "pygments_lexer": "ipython3",
   "version": "3.11.7"
  }
 },
 "nbformat": 4,
 "nbformat_minor": 5
}
